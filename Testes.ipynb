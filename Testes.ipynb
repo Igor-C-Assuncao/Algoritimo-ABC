{
 "cells": [
  {
   "cell_type": "markdown",
   "id": "8db4faa5",
   "metadata": {},
   "source": [
    "# Teste do Algoritmo Artificial Bee Colony (ABC)\n",
    "\n",
    "testar o algoritmo ABC com diferentes funções de otimização:\n",
    "1. Rastrigin\n",
    "2. Rosenbrock\n",
    "3. Ackley\n",
    "4. Esfera\n",
    "\n",
    "\n",
    "\n",
    "\"\"\"\n",
    "Initialization Phase \n",
    "\n",
    "REPEAT :\n",
    "\n",
    "  Employed Bees Phase\n",
    "\n",
    "  Onlooker Bees Phase\n",
    "\n",
    "  Scout Bees Phase\n",
    "\n",
    "  Memorize the best solution achieved so far\n",
    "\n",
    "UNTIL(Cycle=Maximum Cycle Number or a Maximum CPU time)\n",
    "\n",
    "\"\"\""
   ]
  },
  {
   "cell_type": "code",
   "execution_count": 20,
   "id": "46f0fd43",
   "metadata": {},
   "outputs": [],
   "source": [
    "import numpy as np\n",
    "from sklearn import set_config\n",
    "from ABC import ABC\n",
    "from Otimizacao import Rastrigin,Ackley,Rosenbrock,Sphere\n",
    "\n",
    "\n"
   ]
  },
  {
   "cell_type": "markdown",
   "id": "f9b282f1",
   "metadata": {},
   "source": [
    "## Rastrigin"
   ]
  },
  {
   "cell_type": "code",
   "execution_count": 10,
   "id": "31572b90",
   "metadata": {},
   "outputs": [
    {
     "name": "stdout",
     "output_type": "stream",
     "text": [
      "Best solution: [ 0.03741129 -1.78731226 -0.96835629  0.73329729 -1.09699338  1.04178175\n",
      "  0.01657664  0.2459498  -0.93604929  0.94745354]\n",
      "Best fitness: 41.270364581628044\n"
     ]
    }
   ],
   "source": [
    "rastrigin_problem = Rastrigin(dimension=10, lower_bound=-5.12, upper_bound=5.12)\n",
    "abc = ABC(problem=rastrigin_problem, population_size=50, iterations=1000)\n",
    "best_solution, best_fitness = abc.optimize()\n",
    "print(\"Best solution:\", best_solution)\n",
    "print(\"Best fitness:\", best_fitness)"
   ]
  },
  {
   "cell_type": "markdown",
   "id": "d3556465",
   "metadata": {},
   "source": [
    "## Rosenbrock"
   ]
  },
  {
   "cell_type": "code",
   "execution_count": 17,
   "id": "fddab664",
   "metadata": {},
   "outputs": [
    {
     "name": "stdout",
     "output_type": "stream",
     "text": [
      "Best solution: [ 0.51595646 -0.57941622 -0.28652671  0.5207731  -0.0821818   0.12245283\n",
      " -0.32114578 -0.68901515  0.30005763 -0.01237075]\n",
      "Best fitness: 233.09078241678222\n"
     ]
    }
   ],
   "source": [
    "rosebrock_problem = Rosenbrock(dimension=10, lower_bound=-2, upper_bound=2)\n",
    "abc = ABC(problem=rosebrock_problem, population_size=50, iterations=1000)\n",
    "best_solution, best_fitness = abc.optimize()\n",
    "print(\"Best solution:\", best_solution)\n",
    "print(\"Best fitness:\", best_fitness)"
   ]
  },
  {
   "cell_type": "markdown",
   "id": "c7119750",
   "metadata": {},
   "source": [
    "## Ackley"
   ]
  },
  {
   "cell_type": "code",
   "execution_count": 14,
   "id": "64236e0e",
   "metadata": {},
   "outputs": [
    {
     "name": "stdout",
     "output_type": "stream",
     "text": [
      "Best solution: [-0.32863192 -0.04544508 -0.83559133 -1.01668838  1.00369495 -0.23947568\n",
      " -0.24190436 -0.10233398  0.12953464  0.10801033]\n",
      "Best fitness: 3.0832141997034417\n"
     ]
    }
   ],
   "source": [
    "ackley_problem = Ackley(dimension=10, lower_bound=-5, upper_bound=5)\n",
    "abc = ABC(problem=ackley_problem, population_size=50, iterations=1000)\n",
    "best_solution, best_fitness = abc.optimize()\n",
    "print(\"Best solution:\", best_solution)\n",
    "print(\"Best fitness:\", best_fitness)"
   ]
  },
  {
   "cell_type": "markdown",
   "id": "d31e58bb",
   "metadata": {},
   "source": [
    "## Esfera"
   ]
  },
  {
   "cell_type": "code",
   "execution_count": 21,
   "id": "bd1a8f3f",
   "metadata": {},
   "outputs": [
    {
     "name": "stdout",
     "output_type": "stream",
     "text": [
      "Best solution: [ 0.58624732  0.29617878  1.32524923 -0.30206876  1.46808014  0.63153335\n",
      "  0.55357031  0.56947046  0.06557034 -0.195527  ]\n",
      "Best fitness: 5.506299470744233\n"
     ]
    }
   ],
   "source": [
    "sphere_problem = Sphere(dimension=10, lower_bound=-5, upper_bound=5)\n",
    "abc = ABC(problem=sphere_problem, population_size=50, iterations=1000)\n",
    "best_solution, best_fitness = abc.optimize()\n",
    "print(\"Best solution:\", best_solution)\n",
    "print(\"Best fitness:\", best_fitness)"
   ]
  }
 ],
 "metadata": {
  "kernelspec": {
   "display_name": "Python 3",
   "language": "python",
   "name": "python3"
  },
  "language_info": {
   "codemirror_mode": {
    "name": "ipython",
    "version": 3
   },
   "file_extension": ".py",
   "mimetype": "text/x-python",
   "name": "python",
   "nbconvert_exporter": "python",
   "pygments_lexer": "ipython3",
   "version": "3.12.2"
  }
 },
 "nbformat": 4,
 "nbformat_minor": 5
}
