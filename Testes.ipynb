{
 "cells": [
  {
   "cell_type": "markdown",
   "id": "8db4faa5",
   "metadata": {},
   "source": [
    "# Teste do Algoritmo Artificial Bee Colony (ABC)\n",
    "\n",
    "Neste notebook, vamos testar o algoritmo ABC com diferentes funções de otimização:\n",
    "1. Rastrigin\n",
    "2. Rosenbrock\n",
    "3. Ackley\n",
    "4. Esfera\n",
    "\n",
    "Vamos criar um pipeline usando `sklearn.pipeline` para executar o algoritmo ABC com cada uma dessas funções."
   ]
  },
  {
   "cell_type": "code",
   "execution_count": 39,
   "id": "46f0fd43",
   "metadata": {},
   "outputs": [],
   "source": [
    "import numpy as np\n",
    "from sklearn.base import BaseEstimator, TransformerMixin\n",
    "import ABC \n",
    "import Otimizacao\n",
    "import Model\n",
    "\n",
    "Rastrigin = Otimizacao.Rastrigin\n",
    "Ackley = Otimizacao.Ackley\n",
    "Rosenbrock = Otimizacao.Rosenbrock\n",
    "Esfera = Otimizacao.Esfera\n"
   ]
  },
  {
   "cell_type": "markdown",
   "id": "f9b282f1",
   "metadata": {},
   "source": [
    "## Rastrigin"
   ]
  },
  {
   "cell_type": "code",
   "execution_count": 31,
   "id": "0c5df2d1",
   "metadata": {},
   "outputs": [
    {
     "name": "stdout",
     "output_type": "stream",
     "text": [
      "Best solution (Rastrigin): [ 0.01586443 -0.05355066  0.05457489 -0.01030049  0.96297303 -1.09794883\n",
      "  0.08452691 -0.09754424 -0.0011531  -0.06306918]\n",
      "Best fitness (Rastrigin): 9.45009603588236\n"
     ]
    }
   ],
   "source": [
    "\n",
    "pipeline_rastrigin = Model.Pipeline([\n",
    "    ('optimizer', Model.ABCOptimizer(algorithm=ABC.ABC, problem=Rastrigin, n_agents=50, n_iter=1000, dim=10, limit=5.12))\n",
    "])\n",
    "\n",
    "\n",
    "best_solution_rastrigin, best_fitness_rastrigin = pipeline_rastrigin.transform(None)\n",
    "print(\"Best solution (Rastrigin):\", best_solution_rastrigin)\n",
    "print(\"Best fitness (Rastrigin):\", best_fitness_rastrigin)"
   ]
  },
  {
   "cell_type": "markdown",
   "id": "d3556465",
   "metadata": {},
   "source": [
    "## Rosenbrock"
   ]
  },
  {
   "cell_type": "code",
   "execution_count": 32,
   "id": "fddab664",
   "metadata": {},
   "outputs": [
    {
     "name": "stdout",
     "output_type": "stream",
     "text": [
      "Best solution (Rosenbrock): [0.7990191  0.66122722 0.46353367 0.25058914 0.11198125 0.05440318\n",
      " 0.02794675 0.0420926  0.01116356 0.01417792]\n",
      "Best fitness (Rosenbrock): 6.455259175660109\n"
     ]
    }
   ],
   "source": [
    "pipeline_rosenbrock = Model.Pipeline([\n",
    "    ('optimizer', Model.ABCOptimizer(algorithm=ABC.ABC, problem=Rosenbrock, n_agents=50, n_iter=1000, dim=10, limit=5.12))\n",
    "])\n",
    "\n",
    "best_solution_rosenbrock, best_fitness_rosenbrock = pipeline_rosenbrock.transform(None)\n",
    "print(\"Best solution (Rosenbrock):\", best_solution_rosenbrock)\n",
    "print(\"Best fitness (Rosenbrock):\", best_fitness_rosenbrock)"
   ]
  },
  {
   "cell_type": "markdown",
   "id": "c7119750",
   "metadata": {},
   "source": [
    "## Ackley"
   ]
  },
  {
   "cell_type": "code",
   "execution_count": 41,
   "id": "64236e0e",
   "metadata": {},
   "outputs": [
    {
     "name": "stdout",
     "output_type": "stream",
     "text": [
      "Best solution (Ackley): [ 1.67947746e-16 -7.51670160e-15 -8.15654276e-15  3.49012789e-15\n",
      "  1.01014546e-14  3.93948384e-15  7.19662692e-15  5.31588313e-15\n",
      "  2.83178177e-15 -2.44008421e-15]\n",
      "Best fitness (Ackley): 2.531308496145357e-14\n"
     ]
    }
   ],
   "source": [
    "pipeline_ackley = Model.Pipeline([\n",
    "    ('optimizer', Model.ABCOptimizer(algorithm=ABC.ABC, problem=Ackley, n_agents=50, n_iter=1000, dim=10, limit=5.12))\n",
    "])\n",
    "\n",
    "best_solution_ackley, best_fitness_ackley = pipeline_ackley.transform(None)\n",
    "print(\"Best solution (Ackley):\", best_solution_ackley)\n",
    "print(\"Best fitness (Ackley):\", best_fitness_ackley)"
   ]
  },
  {
   "cell_type": "markdown",
   "id": "d31e58bb",
   "metadata": {},
   "source": [
    "## Esfera"
   ]
  },
  {
   "cell_type": "code",
   "execution_count": 38,
   "id": "bd1a8f3f",
   "metadata": {},
   "outputs": [
    {
     "name": "stdout",
     "output_type": "stream",
     "text": [
      "Best solution (Esfera): [ 3.87484577e-15 -1.75440763e-14  1.35392599e-14 -4.21642788e-16\n",
      "  6.95558298e-15 -1.89605084e-15 -1.40350859e-14  7.20707009e-15\n",
      "  7.24640427e-15  1.37062658e-14]\n",
      "Best fitness (Esfera): 1.0475711179252606e-27\n"
     ]
    }
   ],
   "source": [
    "pipeline_esfera = Model.Pipeline([\n",
    "    ('optimizer', Model.ABCOptimizer(algorithm=ABC.ABC, problem=Esfera, n_agents=50, n_iter=1000, dim=10, limit=5.12))\n",
    "])\n",
    "\n",
    "best_solution_esfera, best_fitness_esfera = pipeline_esfera.transform(None)\n",
    "print(\"Best solution (Esfera):\", best_solution_esfera)\n",
    "print(\"Best fitness (Esfera):\", best_fitness_esfera)"
   ]
  }
 ],
 "metadata": {
  "kernelspec": {
   "display_name": "Python 3",
   "language": "python",
   "name": "python3"
  },
  "language_info": {
   "codemirror_mode": {
    "name": "ipython",
    "version": 3
   },
   "file_extension": ".py",
   "mimetype": "text/x-python",
   "name": "python",
   "nbconvert_exporter": "python",
   "pygments_lexer": "ipython3",
   "version": "3.12.2"
  }
 },
 "nbformat": 4,
 "nbformat_minor": 5
}
